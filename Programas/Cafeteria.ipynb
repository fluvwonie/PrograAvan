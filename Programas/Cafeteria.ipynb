{
 "cells": [
  {
   "cell_type": "code",
   "execution_count": 2,
   "metadata": {},
   "outputs": [],
   "source": [
    "class Persona:\n",
    "    def __init__(self, nombre):\n",
    "        self.nombre = nombre\n",
    "\n",
    "class Cliente(Persona):\n",
    "    def __init__(self, nombre):\n",
    "        super().__init__(nombre)\n",
    "        self.historial_pedidos = []\n",
    "        self.puntos_fidelidad = 0\n",
    "\n",
    "    def realizar_pedido(self, pedido, inventario, promocion=None):\n",
    "        if pedido.verificar_disponibilidad(inventario):\n",
    "            if promocion and self.puntos_fidelidad >= 50:\n",
    "                promocion.aplicar_descuento(pedido)\n",
    "            self.historial_pedidos.append(pedido)\n",
    "            self.puntos_fidelidad += 10\n",
    "            pedido.actualizar_stock(inventario)\n",
    "            pedido.actualizar_estado(\"En preparación\")\n",
    "            print(\"Productos:\")\n",
    "            for producto in pedido.productos:\n",
    "                print(f\"- {producto.nombre}: ${producto.precio}\")\n",
    "            print(f\"Total con descuento: ${pedido.calcular_total()}\")\n",
    "        else:\n",
    "            print(\"No hay suficiente stock para realizar el pedido.\")\n",
    "\n",
    "    def consultar_historial(self):\n",
    "        print(f\"Historial pedidos de {self.nombre}\")\n",
    "        for pedido in self.historial_pedidos:\n",
    "            print(f\"Pedido con total: ${pedido.calcular_total()} - Estado: {pedido.estado}\")\n",
    "\n",
    "\n",
    "class Empleado(Persona):\n",
    "    def __init__(self, nombre, rol):\n",
    "        super().__init__(nombre)\n",
    "        self.rol = rol\n",
    "\n",
    "    def actualizar_inventario(self, inventario, ingrediente, cantidad):\n",
    "        inventario.agregar_ingrediente(ingrediente, cantidad)      \n",
    "        print(f\"Se han añadido {cantidad} unidades de {ingrediente}\") \n",
    "\n",
    "\n",
    "class ProductoBase:\n",
    "    def __init__(self, nombre, precio):\n",
    "        self.nombre = nombre\n",
    "        self.precio = precio\n",
    "        self.ingredientes = {}\n",
    "\n",
    "class Bebida(ProductoBase):\n",
    "    def __init__(self, nombre, precio, tamaño, tipo, personalizacion={}):\n",
    "        super().__init__(nombre, precio)\n",
    "        self.tamaño = tamaño\n",
    "        self.tipo = tipo\n",
    "        self.personalizacion = personalizacion\n",
    "        self.ingredientes = {\"Agua\": 1}\n",
    "        self.ingredientes.update(personalizacion)\n",
    "\n",
    "    def descripcion(self):\n",
    "        print(f\"Nombre: {self.nombre}\")\n",
    "        print(f\"Precio: ${self.precio}\")\n",
    "        print(f\"Tamaño: {self.tamaño}\")\n",
    "        print(\"Ingredientes:\")\n",
    "        for ingrediente in self.ingredientes:\n",
    "            print(f\"- {ingrediente}\")\n",
    "\n",
    "\n",
    "class Postre(ProductoBase):\n",
    "    def __init__(self, nombre, precio, personalizacion={}, vegano=False, sin_gluten=False):\n",
    "        super().__init__(nombre, precio)\n",
    "        self.vegano = vegano\n",
    "        self.sin_gluten = sin_gluten\n",
    "        self.personalizacion = personalizacion\n",
    "        self.ingredientes = {\"Harina\": 1}\n",
    "        self.ingredientes.update(personalizacion)\n",
    "\n",
    "    def descripcion(self):\n",
    "        print(f\"Nombre: {self.nombre}\")\n",
    "        print(f\"Precio: ${self.precio}\")\n",
    "        print(f\"Vegano: {'Si' if self.vegano else 'No'}\")\n",
    "        print(f\"Sin gluten: {'Si' if self.sin_gluten else 'No'}\")\n",
    "        print(\"Ingredientes:\")\n",
    "        for ingrediente in self.ingredientes:\n",
    "            print(f\"- {ingrediente}\")\n",
    "\n",
    "class Inventario:\n",
    "    def __init__(self):\n",
    "        self.stock = {}\n",
    "    \n",
    "    def agregar_ingrediente(self, ingrediente, cantidad):\n",
    "        self.stock[ingrediente] = self.stock.get(ingrediente, 0) + cantidad\n",
    "\n",
    "    def verificar_disponibilidad(self, ingredientes):\n",
    "        faltantes = [ing for ing, cantidad in ingredientes.items() if self.stock.get(ing, 0) < cantidad]\n",
    "        if faltantes:\n",
    "            print(f\"Faltan ingredientes: {', '.join(faltantes)}\")\n",
    "            return False\n",
    "        return True\n",
    "\n",
    "    def actualizar_stock(self, ingredientes):\n",
    "        for ing, cantidad in ingredientes.items():\n",
    "            if ing in self.stock:\n",
    "                self.stock[ing] -= cantidad\n",
    "\n",
    "    def consultar_inventario(self):\n",
    "        print(\"Inventario actual:\")\n",
    "        for ing, cantidad in self.stock.items():\n",
    "            print(f\"- {ing}: {cantidad} unidades\")\n",
    "\n",
    "\n",
    "\n",
    "class Pedido:\n",
    "    def __init__(self, cliente):\n",
    "        self.cliente = cliente\n",
    "        self.productos = []\n",
    "        self.estado = \"Pendiente\"\n",
    "        self.total = 0\n",
    "        print(f\"Se ha añadido un nuevo pedido para {self.cliente.nombre}\")\n",
    "\n",
    "\n",
    "    def agregar_producto(self, producto):\n",
    "        self.productos.append(producto)\n",
    "        self.total += producto.precio\n",
    "        print(f\"Se ha añadido {producto.nombre} con costo de ${producto.precio} al pedido de {self.cliente.nombre}\")\n",
    "\n",
    "\n",
    "    def calcular_total(self):\n",
    "        return self.total\n",
    "\n",
    "    def actualizar_estado(self, nuevo_estado):\n",
    "        self.estado = nuevo_estado\n",
    "        print(f\"Nuevo estado del pedido: {self.estado}\")\n",
    "\n",
    "    def verificar_disponibilidad(self, inventario):\n",
    "        return all(inventario.verificar_disponibilidad(prod.ingredientes) for prod in self.productos)\n",
    "\n",
    "    def actualizar_stock(self, inventario):\n",
    "        for prod in self.productos:\n",
    "            inventario.actualizar_stock(prod.ingredientes)\n",
    "\n",
    "class Promocion:\n",
    "    def __init__(self, descripcion, descuento):\n",
    "        self.descripcion = descripcion\n",
    "        self.descuento = descuento\n",
    "    \n",
    "    def aplicar_descuento(self, pedido):\n",
    "        pedido.total *= (1 - self.descuento / 100)"
   ]
  },
  {
   "cell_type": "code",
   "execution_count": 3,
   "metadata": {},
   "outputs": [],
   "source": [
    "inventario = Inventario()\n",
    "inventario.agregar_ingrediente(\"Cafe\", 10)\n",
    "inventario.agregar_ingrediente(\"Te\", 11)\n",
    "inventario.agregar_ingrediente(\"Leche de coco\", 5)\n",
    "inventario.agregar_ingrediente(\"Leche deslactosada\", 13)\n",
    "inventario.agregar_ingrediente(\"Huevos\", 20)\n",
    "inventario.agregar_ingrediente(\"Azúcar\", 30)\n",
    "inventario.agregar_ingrediente(\"Chocolate\", 18)\n",
    "inventario.agregar_ingrediente(\"Miel\", 9)\n",
    "inventario.agregar_ingrediente(\"Fresas\", 16)\n",
    "inventario.agregar_ingrediente(\"Harina\", 15)\n",
    "inventario.agregar_ingrediente(\"Hielo\", 15)"
   ]
  },
  {
   "cell_type": "code",
   "execution_count": 4,
   "metadata": {},
   "outputs": [
    {
     "name": "stdout",
     "output_type": "stream",
     "text": [
      "Inventario actual:\n",
      "- Cafe: 10 unidades\n",
      "- Te: 11 unidades\n",
      "- Leche de coco: 5 unidades\n",
      "- Leche deslactosada: 13 unidades\n",
      "- Huevos: 20 unidades\n",
      "- Azúcar: 30 unidades\n",
      "- Chocolate: 18 unidades\n",
      "- Miel: 9 unidades\n",
      "- Fresas: 16 unidades\n",
      "- Harina: 15 unidades\n",
      "- Hielo: 15 unidades\n"
     ]
    }
   ],
   "source": [
    "inventario.consultar_inventario()"
   ]
  },
  {
   "cell_type": "code",
   "execution_count": 5,
   "metadata": {},
   "outputs": [],
   "source": [
    "cliente1 = Cliente(\"Sugey\")\n",
    "cliente2 = Cliente(\"Jimmy\")\n",
    "cliente3 = Cliente(\"Karen\")\n",
    "empleado1 = Empleado(\"Julian\", \"Barista\")\n",
    "empleado2 = Empleado(\"Marta\", \"Mesera\")\n",
    "empleado3 = Empleado(\"Pedro\", \"Gerente\")"
   ]
  },
  {
   "cell_type": "code",
   "execution_count": 6,
   "metadata": {},
   "outputs": [],
   "source": [
    "bebida1 = Bebida(\"Chai Latte\", 55, \"Mediano\", \"Caliente\", {\"Te\": 1, \"Leche de coco\": 1, \"Azúcar\": 1, \"Hielo\": 1})\n",
    "postre1 = Postre(\"Galleta de Chocolate\", 15, personalizacion={\"Azúcar\": 1, \"Chocolate\": 1})\n",
    "bebida2 = Bebida(\"Cafe Vegano\", 35, \"Pequeño\", \"Caliente\", {\"Café\": 1, \"Azúcar\": 1})\n",
    "postre2 = Postre(\"Pan Vegano\", 30, personalizacion={\"Azúcar\": 1, \"Harina\": 1}, vegano=True)\n",
    "bebida3 = Bebida(\"Café Latte\", 50, \"Mediano\", \"Caliente\", {\"Café\": 1, \"Leche deslactosada\": 1, \"Azúcar\": 1})\n",
    "postre3 = Postre(\"Brownie Sin Gluten\", 30, personalizacion={\"Azúcar\": 1}, sin_gluten=True)"
   ]
  },
  {
   "cell_type": "code",
   "execution_count": 7,
   "metadata": {},
   "outputs": [
    {
     "name": "stdout",
     "output_type": "stream",
     "text": [
      "Nombre: Chai Latte\n",
      "Precio: $55\n",
      "Tamaño: Mediano\n",
      "Ingredientes:\n",
      "- Agua\n",
      "- Te\n",
      "- Leche de coco\n",
      "- Azúcar\n",
      "- Hielo\n",
      "Nombre: Galleta de Chocolate\n",
      "Precio: $15\n",
      "Vegano: No\n",
      "Sin gluten: No\n",
      "Ingredientes:\n",
      "- Harina\n",
      "- Azúcar\n",
      "- Chocolate\n",
      "Nombre: Cafe Vegano\n",
      "Precio: $35\n",
      "Tamaño: Pequeño\n",
      "Ingredientes:\n",
      "- Agua\n",
      "- Café\n",
      "- Azúcar\n",
      "Nombre: Pan Vegano\n",
      "Precio: $30\n",
      "Vegano: Si\n",
      "Sin gluten: No\n",
      "Ingredientes:\n",
      "- Harina\n",
      "- Azúcar\n",
      "Nombre: Café Latte\n",
      "Precio: $50\n",
      "Tamaño: Mediano\n",
      "Ingredientes:\n",
      "- Agua\n",
      "- Café\n",
      "- Leche deslactosada\n",
      "- Azúcar\n",
      "Nombre: Brownie Sin Gluten\n",
      "Precio: $30\n",
      "Vegano: No\n",
      "Sin gluten: Si\n",
      "Ingredientes:\n",
      "- Harina\n",
      "- Azúcar\n"
     ]
    }
   ],
   "source": [
    "bebida1.descripcion()\n",
    "postre1.descripcion()\n",
    "bebida2.descripcion()\n",
    "postre2.descripcion()\n",
    "bebida3.descripcion()\n",
    "postre3.descripcion()"
   ]
  },
  {
   "cell_type": "code",
   "execution_count": 9,
   "metadata": {},
   "outputs": [
    {
     "name": "stdout",
     "output_type": "stream",
     "text": [
      "Se ha añadido un nuevo pedido para Sugey\n",
      "Se ha añadido Chai Latte con costo de $55 al pedido de Sugey\n",
      "Se ha añadido Galleta de Chocolate con costo de $15 al pedido de Sugey\n",
      "Se ha añadido un nuevo pedido para Jimmy\n",
      "Se ha añadido Cafe Vegano con costo de $35 al pedido de Jimmy\n",
      "Se ha añadido Pan Vegano con costo de $30 al pedido de Jimmy\n",
      "Se ha añadido un nuevo pedido para Karen\n",
      "Se ha añadido Café Latte con costo de $50 al pedido de Karen\n",
      "Se ha añadido Brownie Sin Gluten con costo de $30 al pedido de Karen\n"
     ]
    }
   ],
   "source": [
    "pedido1 = Pedido(cliente1)\n",
    "pedido1.agregar_producto(bebida1)\n",
    "pedido1.agregar_producto(postre1)\n",
    "\n",
    "pedido2 = Pedido(cliente2)\n",
    "pedido2.agregar_producto(bebida2)\n",
    "pedido2.agregar_producto(postre2)\n",
    "\n",
    "pedido3 = Pedido(cliente3)\n",
    "pedido3.agregar_producto(bebida3)\n",
    "pedido3.agregar_producto(postre3)"
   ]
  },
  {
   "cell_type": "code",
   "execution_count": 10,
   "metadata": {},
   "outputs": [],
   "source": [
    "promo = Promocion(\"Descuento de 10% para clientes frecuentes\", 10)"
   ]
  },
  {
   "cell_type": "code",
   "execution_count": 11,
   "metadata": {},
   "outputs": [
    {
     "name": "stdout",
     "output_type": "stream",
     "text": [
      "Faltan ingredientes: Agua\n",
      "No hay suficiente stock para realizar el pedido.\n",
      "Faltan ingredientes: Agua, Café\n",
      "No hay suficiente stock para realizar el pedido.\n",
      "Faltan ingredientes: Agua, Café\n",
      "No hay suficiente stock para realizar el pedido.\n"
     ]
    }
   ],
   "source": [
    "cliente1.realizar_pedido(pedido1, inventario, promo)\n",
    "cliente2.realizar_pedido(pedido2, inventario, promo)\n",
    "cliente3.realizar_pedido(pedido3, inventario, promo)"
   ]
  },
  {
   "cell_type": "code",
   "execution_count": 12,
   "metadata": {},
   "outputs": [
    {
     "name": "stdout",
     "output_type": "stream",
     "text": [
      "Nuevo estado del pedido: Entregado\n",
      "Nuevo estado del pedido: Entregado\n",
      "Nuevo estado del pedido: Entregado\n"
     ]
    }
   ],
   "source": [
    "pedido1.actualizar_estado(\"Entregado\")\n",
    "pedido2.actualizar_estado(\"Entregado\")\n",
    "pedido3.actualizar_estado(\"Entregado\")"
   ]
  },
  {
   "cell_type": "code",
   "execution_count": 13,
   "metadata": {},
   "outputs": [
    {
     "name": "stdout",
     "output_type": "stream",
     "text": [
      "Historial pedidos de Sugey\n",
      "Historial pedidos de Jimmy\n",
      "Historial pedidos de Karen\n"
     ]
    }
   ],
   "source": [
    "cliente1.consultar_historial()\n",
    "cliente2.consultar_historial()\n",
    "cliente3.consultar_historial()"
   ]
  },
  {
   "cell_type": "code",
   "execution_count": 14,
   "metadata": {},
   "outputs": [
    {
     "name": "stdout",
     "output_type": "stream",
     "text": [
      "Inventario actual:\n",
      "- Cafe: 10 unidades\n",
      "- Te: 11 unidades\n",
      "- Leche de coco: 5 unidades\n",
      "- Leche deslactosada: 13 unidades\n",
      "- Huevos: 20 unidades\n",
      "- Azúcar: 30 unidades\n",
      "- Chocolate: 18 unidades\n",
      "- Miel: 9 unidades\n",
      "- Fresas: 16 unidades\n",
      "- Harina: 15 unidades\n",
      "- Hielo: 15 unidades\n"
     ]
    }
   ],
   "source": [
    "inventario.consultar_inventario()"
   ]
  },
  {
   "cell_type": "code",
   "execution_count": 15,
   "metadata": {},
   "outputs": [
    {
     "name": "stdout",
     "output_type": "stream",
     "text": [
      "Se han añadido 5 unidades de Fresas\n"
     ]
    }
   ],
   "source": [
    "empleado1.actualizar_inventario(inventario, \"Fresas\", 5)"
   ]
  }
 ],
 "metadata": {
  "kernelspec": {
   "display_name": "Python 3",
   "language": "python",
   "name": "python3"
  },
  "language_info": {
   "codemirror_mode": {
    "name": "ipython",
    "version": 3
   },
   "file_extension": ".py",
   "mimetype": "text/x-python",
   "name": "python",
   "nbconvert_exporter": "python",
   "pygments_lexer": "ipython3",
   "version": "3.12.5"
  }
 },
 "nbformat": 4,
 "nbformat_minor": 2
}
